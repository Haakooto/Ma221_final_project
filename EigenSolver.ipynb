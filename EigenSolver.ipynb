{
 "cells": [
  {
   "cell_type": "code",
   "execution_count": 47,
   "metadata": {},
   "outputs": [
    {
     "name": "stdout",
     "output_type": "stream",
     "text": [
      "The autoreload extension is already loaded. To reload it, use:\n",
      "  %reload_ext autoreload\n"
     ]
    }
   ],
   "source": [
    "import torch\n",
    "import torch.nn as nn\n",
    "import torch.nn.functional as F\n",
    "import torch.optim as optim\n",
    "import numpy as np\n",
    "from autograd import elementwise_grad as ele_grad\n",
    "from tqdm.notebook import tqdm\n",
    "from model import *\n",
    "\n",
    "%load_ext autoreload\n",
    "%autoreload 2"
   ]
  },
  {
   "cell_type": "code",
   "execution_count": 48,
   "metadata": {},
   "outputs": [
    {
     "name": "stdout",
     "output_type": "stream",
     "text": [
      "using device: cpu\n",
      "1.11.0+cu102\n"
     ]
    }
   ],
   "source": [
    "USE_GPU = True\n",
    "\n",
    "dtype = torch.float32\n",
    "\n",
    "if USE_GPU and torch.cuda.is_available():\n",
    "    device = torch.device('cuda')\n",
    "else:\n",
    "    device = torch.device('cpu')\n",
    "\n",
    "# Constant to control how frequently we print train loss\n",
    "print_every = 100\n",
    "\n",
    "print('using device:', device)\n",
    "print(torch.__version__)"
   ]
  },
  {
   "cell_type": "code",
   "execution_count": 305,
   "metadata": {},
   "outputs": [],
   "source": [
    "np.random.seed(345)\n",
    "torch.manual_seed(345)\n",
    "\n",
    "epochs = 1000\n",
    "n = 12\n",
    "\n",
    "Q = np.random.randn(n, n)\n",
    "S = Q.T @ Q\n",
    "\n",
    "x0 = np.random.randn(n)\n",
    "\n",
    "# lr_cos = optim.lr_scheduler.CosineAnnealingLR\n",
    "\n",
    "EigenSolver = FullyConnectedN(n, [120, 120, 120], nonlinearity=\"relu\")\n",
    "optimizer = optim.Adam(EigenSolver.parameters(), lr=0.0002)\n",
    "# scheduler = lr_cos(optimizer, epochs)\n"
   ]
  },
  {
   "cell_type": "code",
   "execution_count": 306,
   "metadata": {},
   "outputs": [
    {
     "data": {
      "application/vnd.jupyter.widget-view+json": {
       "model_id": "ab59cb535978482f8d0667d86b996b84",
       "version_major": 2,
       "version_minor": 0
      },
      "text/plain": [
       "  0%|          | 0/1000 [00:00<?, ?it/s]"
      ]
     },
     "metadata": {},
     "output_type": "display_data"
    }
   ],
   "source": [
    "eigen = train(EigenSolver, optimizer, S, x0, 1e-2, epochs, device, dtype)\n"
   ]
  },
  {
   "cell_type": "code",
   "execution_count": 307,
   "metadata": {},
   "outputs": [
    {
     "name": "stdout",
     "output_type": "stream",
     "text": [
      "0.0207013883800522\n",
      "1.1519955797679629\n",
      "1.5384399222089058 1.559141310588958\n"
     ]
    }
   ],
   "source": [
    "data = compare_eig(S, eigen)\n",
    "print(data[\"val_err\"])\n",
    "print(data[\"vec_err\"])\n",
    "print(data[\"eval_np\"], data[\"eval_NN\"])\n",
    "# print(data[\"evec_np\"])\n",
    "# print(data[\"evec_NN\"])"
   ]
  },
  {
   "cell_type": "code",
   "execution_count": 185,
   "metadata": {},
   "outputs": [],
   "source": [
    "np.random.seed(226)\n",
    "torch.manual_seed(226)\n",
    "\n",
    "epochs = 50\n",
    "n = 100\n",
    "Toeplitz = np.tri(n, k=1) - np.tri(n, k=-2) + np.eye(n)\n",
    "# Q = np.random.randn(n, n)\n",
    "# S = Q.T @ Q\n",
    "S = Toeplitz\n",
    "\n",
    "x0 = np.random.randn(n)\n",
    "\n",
    "# lr_scheduler = optim.lr_scheduler.CosineAnnealingLR\n",
    "\n",
    "EigenSolver = FullyConnectedN(n, [300, 300, 120, 120, 120], nonlinearity=\"relu\")\n",
    "optimizer = optim.AdamW(EigenSolver.parameters(), lr=0.03)\n",
    "# scheduler = lr_scheduler(optimizer, epochs, 0)"
   ]
  },
  {
   "cell_type": "code",
   "execution_count": 188,
   "metadata": {},
   "outputs": [
    {
     "data": {
      "application/vnd.jupyter.widget-view+json": {
       "model_id": "6bf4a7b70d8141ebb5472059f8f576a5",
       "version_major": 2,
       "version_minor": 0
      },
      "text/plain": [
       "  0%|          | 0/50 [00:00<?, ?it/s]"
      ]
     },
     "metadata": {},
     "output_type": "display_data"
    }
   ],
   "source": [
    "eigen = train(EigenSolver, optimizer, S, x0, 1e4, epochs, device, dtype)\n"
   ]
  },
  {
   "cell_type": "code",
   "execution_count": 189,
   "metadata": {},
   "outputs": [
    {
     "name": "stdout",
     "output_type": "stream",
     "text": [
      "0.026328055479432955\n",
      "0.28214202598037563\n",
      "2.0932807807748324 2.0669527252953994\n"
     ]
    }
   ],
   "source": [
    "data = compare_eig(S, eigen)\n",
    "print(data[\"val_err\"])\n",
    "print(data[\"vec_err\"])\n",
    "print(data[\"eval_np\"], data[\"eval_NN\"])"
   ]
  },
  {
   "cell_type": "code",
   "execution_count": null,
   "metadata": {},
   "outputs": [],
   "source": []
  }
 ],
 "metadata": {
  "kernelspec": {
   "display_name": "3.9.2",
   "language": "python",
   "name": "python-3.9.2"
  },
  "language_info": {
   "codemirror_mode": {
    "name": "ipython",
    "version": 3
   },
   "file_extension": ".py",
   "mimetype": "text/x-python",
   "name": "python",
   "nbconvert_exporter": "python",
   "pygments_lexer": "ipython3",
   "version": "3.9.2"
  },
  "orig_nbformat": 4
 },
 "nbformat": 4,
 "nbformat_minor": 2
}
